{
 "cells": [
  {
   "cell_type": "markdown",
   "id": "8727df77-7659-4e99-90cc-b922bfaba9b9",
   "metadata": {},
   "source": [
    "# 结巴分词实践"
   ]
  },
  {
   "cell_type": "markdown",
   "id": "86262806-65d8-48c4-8d7f-2165204b9f61",
   "metadata": {},
   "source": [
    "## 结巴分词的三种模式"
   ]
  },
  {
   "cell_type": "markdown",
   "id": "ab5eb265-7023-4e1b-800f-9d6c05f4e568",
   "metadata": {},
   "source": [
    "### 全模式"
   ]
  },
  {
   "cell_type": "code",
   "execution_count": 3,
   "id": "c96db838-7293-42f4-a4a2-375cb77e2e01",
   "metadata": {},
   "outputs": [
    {
     "name": "stderr",
     "output_type": "stream",
     "text": [
      "Building prefix dict from the default dictionary ...\n",
      "Dumping model to file cache C:\\Users\\Administrator\\AppData\\Local\\Temp\\jieba.cache\n",
      "Loading model cost 1.840 seconds.\n",
      "Prefix dict has been built successfully.\n"
     ]
    },
    {
     "name": "stdout",
     "output_type": "stream",
     "text": [
      "Full Mode: 我/来到/北京/北京大学/大学\n"
     ]
    }
   ],
   "source": [
    "import jieba\n",
    "seg_list = jieba.cut(\"我来到北京大学\",cut_all=True)\n",
    "print(\"Full Mode: \" + \"/\".join(seg_list))"
   ]
  },
  {
   "cell_type": "markdown",
   "id": "c7d2f156-327b-4067-b7ba-6d9d1639bebb",
   "metadata": {},
   "source": [
    "### 精确模式"
   ]
  },
  {
   "cell_type": "code",
   "execution_count": 4,
   "id": "4372350c-48a6-41b1-b5c3-441dc20cadf5",
   "metadata": {},
   "outputs": [
    {
     "name": "stdout",
     "output_type": "stream",
     "text": [
      "Default Mode: 我/来到/北京大学\n"
     ]
    }
   ],
   "source": [
    "seg_list = jieba.cut(\"我来到北京大学\",cut_all=False)\n",
    "print(\"Default Mode: \" + \"/\".join(seg_list))"
   ]
  },
  {
   "cell_type": "markdown",
   "id": "1a61e405-415a-4756-874c-0f5a8982511b",
   "metadata": {},
   "source": [
    "### 搜索引擎模式"
   ]
  },
  {
   "cell_type": "code",
   "execution_count": 7,
   "id": "e85f4257-9b26-4184-a4b3-b593c88d109b",
   "metadata": {},
   "outputs": [
    {
     "name": "stdout",
     "output_type": "stream",
     "text": [
      "小明, 硕士, 毕业, 于, 中国, 科学, 学院, 科学院, 中国科学院, 计算, 计算所, ，, 后, 在, 日本, 京都, 大学, 日本京都大学, 深造\n"
     ]
    }
   ],
   "source": [
    "seg_list = jieba.cut_for_search(\"小明硕士毕业于中国科学院计算所，后在日本京都大学深造\")\n",
    "print(\", \".join(seg_list))"
   ]
  },
  {
   "cell_type": "markdown",
   "id": "8e4ab0f8-4466-49a7-a22f-7de73f9ba2b1",
   "metadata": {},
   "source": [
    "## 载入词典"
   ]
  },
  {
   "cell_type": "code",
   "execution_count": 9,
   "id": "51d06b01-1583-4a19-adbd-3665498dceb3",
   "metadata": {},
   "outputs": [
    {
     "name": "stdout",
     "output_type": "stream",
     "text": [
      "Default Mode: 谭葆炳/即将/是/自然语言/处理/方面/的/高手\n"
     ]
    }
   ],
   "source": [
    "jieba.load_userdict(r\"C:\\Users\\Administrator\\PycharmProjects\\NLP\\userdict.txt\")\n",
    "seg_list = jieba.cut(\"谭葆炳即将是自然语言处理方面的高手\", cut_all=False,HMM=False)\n",
    "print(\"Default Mode: \" +\"/\".join(seg_list))"
   ]
  },
  {
   "cell_type": "code",
   "execution_count": 10,
   "id": "2c1a47e2-45cd-4fd0-b706-0a07e3ced4ad",
   "metadata": {},
   "outputs": [
    {
     "data": {
      "text/plain": [
       "['河北省人民政府', '一流大学', '燕山大学', '学科建设', '大学']"
      ]
     },
     "execution_count": 10,
     "metadata": {},
     "output_type": "execute_result"
    }
   ],
   "source": [
    "import jieba.analyse\n",
    "jieba.analyse.extract_tags(\"燕山大学是河北省人民政府、教育部、工业和信息化部、国家国防科技工业局四方共建的全国重点大学，河北省重点支持的国家一流大学和世界一流学科建设高校，北京高科大学联盟成员。\", topK=5, withWeight=False, allowPOS=())"
   ]
  },
  {
   "cell_type": "code",
   "execution_count": null,
   "id": "a1b20118-4dd5-4be4-bf4b-2cb242cbc1b8",
   "metadata": {},
   "outputs": [],
   "source": []
  }
 ],
 "metadata": {
  "kernelspec": {
   "display_name": "Python 3 (ipykernel)",
   "language": "python",
   "name": "python3"
  },
  "language_info": {
   "codemirror_mode": {
    "name": "ipython",
    "version": 3
   },
   "file_extension": ".py",
   "mimetype": "text/x-python",
   "name": "python",
   "nbconvert_exporter": "python",
   "pygments_lexer": "ipython3",
   "version": "3.9.1"
  }
 },
 "nbformat": 4,
 "nbformat_minor": 5
}
